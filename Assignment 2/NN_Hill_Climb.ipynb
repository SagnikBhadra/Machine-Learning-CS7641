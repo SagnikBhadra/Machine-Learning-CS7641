{
 "cells": [
  {
   "cell_type": "code",
   "execution_count": 2,
   "id": "b7b714a2",
   "metadata": {},
   "outputs": [],
   "source": [
    "import sklearn\n",
    "import numpy as np\n",
    "import pandas as pd\n",
    "from IPython.display import display\n",
    "from sklearn.model_selection import train_test_split\n",
    "pd.options.display.max_columns = None\n",
    "import matplotlib.pyplot as plt\n",
    "import matplotlib\n",
    "matplotlib.rc('figure', figsize=[10,5])\n",
    "from sklearn.metrics import f1_score, accuracy_score, classification_report\n",
    "import mlrose_hiive\n",
    "from functools import partial\n",
    "import timeit\n",
    "from util import evaluate_data, graph_LC, graph_C, normalize_data, create_stratified_data, prepare_data, preprocess_ufc_data"
   ]
  },
  {
   "cell_type": "code",
   "execution_count": null,
   "id": "988d5f3e",
   "metadata": {},
   "outputs": [
    {
     "name": "stdout",
     "output_type": "stream",
     "text": [
      "Randimized Hill Climb\n",
      "Fitting 5 folds for each of 4 candidates, totalling 20 fits\n"
     ]
    }
   ],
   "source": [
    "def testing(output, input_test_set, output_test_set, input_train_set, output_train_set):\n",
    "    predictions = output[3].predict(input_test_set)\n",
    "    print(classification_report(pd.get_dummies(output_test_set.values.ravel()).values, predictions))\n",
    "    \n",
    "    train_predictions = output[3].predict(input_train_set)\n",
    "    print(classification_report(pd.get_dummies(output_train_set.values.ravel()).values, train_predictions))\n",
    "\n",
    "def wine_dataset():\n",
    "    target_feature = \"class\"\n",
    "    mean = \"weighted\"\n",
    "    weighting = \"f1_weighted\"\n",
    "    hyperparameter = \"hidden_layer_sizes\"\n",
    "    cross_validation_splitter = 10\n",
    "    parallel = -1\n",
    "    scoring = partial(f1_score, average=mean)\n",
    "\n",
    "    np.random.seed(42)\n",
    "    wine_dataset = pd.read_csv(\"wine_dataset.csv\")\n",
    "\n",
    "\n",
    "    target = wine_dataset[target_feature]\n",
    "    wine_dataset = normalize_data(wine_dataset)\n",
    "    wine_dataset[target_feature] = target\n",
    "    \n",
    "    in_sample, out_of_sample = create_stratified_data(target_feature, wine_dataset)\n",
    "\n",
    "    output_train_set, input_train_set, output_test_set, input_test_set = prepare_data(in_sample, out_of_sample, target_feature)\n",
    "    \n",
    "    \n",
    "    hyperparameter_tuning = ({\n",
    "      'learning_rate': [0.01, 0.001],\n",
    "      'restarts': [25, 50],\n",
    "      'activation': [mlrose_hiive.neural.activation.relu]\n",
    "    })\n",
    "    \n",
    "    print('Randimized Hill Climb')\n",
    "    start = timeit.default_timer()\n",
    "    neural_network_randomized_hill_climb = mlrose_hiive.NNGSRunner(input_train_set, pd.get_dummies(output_train_set.values.ravel()).values, \n",
    "                                     input_test_set, pd.get_dummies(output_test_set.values.ravel()).values, \n",
    "                                     \"NeuralNetworkRHC\",\n",
    "                                     output_directory=\"./\",\n",
    "                                     seed=10, iteration_list=[10000], \n",
    "                                     algorithm=mlrose_hiive.random_hill_climb,\n",
    "                                     hidden_layer_sizes=[[60,60]],\n",
    "                                     grid_search_parameters=hyperparameter_tuning,\n",
    "                                     grid_search_scorer_method=scoring,\n",
    "                                     n_jobs=-2, cv=5)\n",
    "    output = neural_network_randomized_hill_climb.run()\n",
    "    \n",
    "    stop = timeit.default_timer()\n",
    "    print('Randimized Hill Climb Time: ', stop - start)  \n",
    "    \n",
    "    testing(output, input_test_set, output_test_set, input_train_set, output_train_set)\n",
    "    \n",
    "    \n",
    "if __name__ == \"__main__\":\n",
    "    wine_dataset()"
   ]
  },
  {
   "cell_type": "code",
   "execution_count": null,
   "id": "65088774",
   "metadata": {},
   "outputs": [],
   "source": []
  }
 ],
 "metadata": {
  "kernelspec": {
   "display_name": "Python 3",
   "language": "python",
   "name": "python3"
  },
  "language_info": {
   "codemirror_mode": {
    "name": "ipython",
    "version": 3
   },
   "file_extension": ".py",
   "mimetype": "text/x-python",
   "name": "python",
   "nbconvert_exporter": "python",
   "pygments_lexer": "ipython3",
   "version": "3.8.8"
  }
 },
 "nbformat": 4,
 "nbformat_minor": 5
}
